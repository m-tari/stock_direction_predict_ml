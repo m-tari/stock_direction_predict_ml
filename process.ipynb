{
 "cells": [
  {
   "cell_type": "markdown",
   "metadata": {},
   "source": [
    "# Motivation"
   ]
  },
  {
   "cell_type": "markdown",
   "metadata": {},
   "source": [
    "The motivation of this project is to replicate the results of the [repository of Buffalo Capital Management](https://github.com/wzchen/stock_market_prediction) at 2013 and in the future see if markets are still predictable in 2021. The original Kaggle competition is [here](https://www.kaggle.com/c/boston-data-festival-hackathon).\n",
    " - Given the opening, closing, min, max, and volume of a stock in the previous 9 days (and given the opening price of a stock on day 10) can we predict the directional movement of a stock on day 10?\n",
    " \n",
    "**Steps**\n",
    "\n",
    "- Get the data\n",
    "- Exploretoary analysis\n",
    "- Model the time series data suing a machine learning model\n",
    "- Applying the startegy on the backtest data to see how the strategy will perform\n",
    "\n",
    "**Files**\n",
    "\n",
    "We only use the training dataset of the original Kaggle competition since the Close price of the stocks are in the dataset so we can find the accuracy of our model.\n",
    "The trainig dataset is then splitted to train, test and backtest datasets.\n",
    "- **process.ipynb**: A Jupyter Notebook describing the process.\n",
    "- **training.csv**: A csv file containing stock ID (StId), opening, closing, min, max, and volume of 94 stock in 500 days. The first opening date price is scaled to 1.\n"
   ]
  },
  {
   "cell_type": "markdown",
   "metadata": {},
   "source": [
    "# Get the data"
   ]
  },
  {
   "cell_type": "code",
   "execution_count": 61,
   "metadata": {
    "tags": []
   },
   "outputs": [],
   "source": [
    "import numpy as np\n",
    "import pandas as pd\n",
    "import matplotlib.pyplot as plt"
   ]
  },
  {
   "cell_type": "code",
   "execution_count": 62,
   "metadata": {},
   "outputs": [],
   "source": [
    "data = pd.read_csv('datasets/ohlc_data.csv')"
   ]
  },
  {
   "cell_type": "code",
   "execution_count": 63,
   "metadata": {},
   "outputs": [
    {
     "data": {
      "text/html": [
       "<div>\n",
       "<style scoped>\n",
       "    .dataframe tbody tr th:only-of-type {\n",
       "        vertical-align: middle;\n",
       "    }\n",
       "\n",
       "    .dataframe tbody tr th {\n",
       "        vertical-align: top;\n",
       "    }\n",
       "\n",
       "    .dataframe thead th {\n",
       "        text-align: right;\n",
       "    }\n",
       "</style>\n",
       "<table border=\"1\" class=\"dataframe\">\n",
       "  <thead>\n",
       "    <tr style=\"text-align: right;\">\n",
       "      <th></th>\n",
       "      <th>StId</th>\n",
       "      <th>O1</th>\n",
       "      <th>MA1</th>\n",
       "      <th>MI1</th>\n",
       "      <th>C1</th>\n",
       "      <th>V1</th>\n",
       "      <th>O2</th>\n",
       "      <th>MA2</th>\n",
       "      <th>MI2</th>\n",
       "      <th>C2</th>\n",
       "      <th>...</th>\n",
       "      <th>O499</th>\n",
       "      <th>MA499</th>\n",
       "      <th>MI499</th>\n",
       "      <th>C499</th>\n",
       "      <th>V499</th>\n",
       "      <th>O500</th>\n",
       "      <th>MA500</th>\n",
       "      <th>MI500</th>\n",
       "      <th>C500</th>\n",
       "      <th>V500</th>\n",
       "    </tr>\n",
       "  </thead>\n",
       "  <tbody>\n",
       "    <tr>\n",
       "      <th>0</th>\n",
       "      <td>1</td>\n",
       "      <td>1</td>\n",
       "      <td>1.0163</td>\n",
       "      <td>0.99640</td>\n",
       "      <td>1.00000</td>\n",
       "      <td>1260000.0</td>\n",
       "      <td>1.00000</td>\n",
       "      <td>1.0055</td>\n",
       "      <td>0.99106</td>\n",
       "      <td>1.00000</td>\n",
       "      <td>...</td>\n",
       "      <td>0.89015</td>\n",
       "      <td>0.90284</td>\n",
       "      <td>0.87934</td>\n",
       "      <td>0.90097</td>\n",
       "      <td>3930000.0</td>\n",
       "      <td>0.90457</td>\n",
       "      <td>0.90457</td>\n",
       "      <td>0.88655</td>\n",
       "      <td>0.89015</td>\n",
       "      <td>1860000.0</td>\n",
       "    </tr>\n",
       "    <tr>\n",
       "      <th>1</th>\n",
       "      <td>2</td>\n",
       "      <td>1</td>\n",
       "      <td>1.0124</td>\n",
       "      <td>0.99160</td>\n",
       "      <td>0.99563</td>\n",
       "      <td>1720000.0</td>\n",
       "      <td>1.00400</td>\n",
       "      <td>1.0040</td>\n",
       "      <td>0.97882</td>\n",
       "      <td>0.98319</td>\n",
       "      <td>...</td>\n",
       "      <td>2.18490</td>\n",
       "      <td>2.18890</td>\n",
       "      <td>2.15970</td>\n",
       "      <td>2.18050</td>\n",
       "      <td>2890000.0</td>\n",
       "      <td>2.19730</td>\n",
       "      <td>2.20170</td>\n",
       "      <td>2.18050</td>\n",
       "      <td>2.18490</td>\n",
       "      <td>2040000.0</td>\n",
       "    </tr>\n",
       "    <tr>\n",
       "      <th>2</th>\n",
       "      <td>3</td>\n",
       "      <td>1</td>\n",
       "      <td>1.0000</td>\n",
       "      <td>0.98269</td>\n",
       "      <td>0.98269</td>\n",
       "      <td>335000.0</td>\n",
       "      <td>1.00430</td>\n",
       "      <td>1.0087</td>\n",
       "      <td>0.99135</td>\n",
       "      <td>0.99135</td>\n",
       "      <td>...</td>\n",
       "      <td>0.93184</td>\n",
       "      <td>0.94483</td>\n",
       "      <td>0.93184</td>\n",
       "      <td>0.93617</td>\n",
       "      <td>269000.0</td>\n",
       "      <td>0.93184</td>\n",
       "      <td>0.94050</td>\n",
       "      <td>0.91886</td>\n",
       "      <td>0.93184</td>\n",
       "      <td>395000.0</td>\n",
       "    </tr>\n",
       "    <tr>\n",
       "      <th>3</th>\n",
       "      <td>4</td>\n",
       "      <td>1</td>\n",
       "      <td>1.0152</td>\n",
       "      <td>1.00000</td>\n",
       "      <td>1.01030</td>\n",
       "      <td>227000.0</td>\n",
       "      <td>1.00490</td>\n",
       "      <td>1.0103</td>\n",
       "      <td>0.98441</td>\n",
       "      <td>1.00000</td>\n",
       "      <td>...</td>\n",
       "      <td>0.42043</td>\n",
       "      <td>0.44627</td>\n",
       "      <td>0.41017</td>\n",
       "      <td>0.44627</td>\n",
       "      <td>2370000.0</td>\n",
       "      <td>0.38966</td>\n",
       "      <td>0.41509</td>\n",
       "      <td>0.38433</td>\n",
       "      <td>0.41509</td>\n",
       "      <td>988000.0</td>\n",
       "    </tr>\n",
       "    <tr>\n",
       "      <th>4</th>\n",
       "      <td>5</td>\n",
       "      <td>1</td>\n",
       "      <td>1.0000</td>\n",
       "      <td>0.97850</td>\n",
       "      <td>0.97850</td>\n",
       "      <td>887000.0</td>\n",
       "      <td>0.98925</td>\n",
       "      <td>1.0056</td>\n",
       "      <td>0.98925</td>\n",
       "      <td>0.99486</td>\n",
       "      <td>...</td>\n",
       "      <td>1.28640</td>\n",
       "      <td>1.29630</td>\n",
       "      <td>1.27620</td>\n",
       "      <td>1.28640</td>\n",
       "      <td>1170000.0</td>\n",
       "      <td>1.27100</td>\n",
       "      <td>1.29160</td>\n",
       "      <td>1.26590</td>\n",
       "      <td>1.29160</td>\n",
       "      <td>969000.0</td>\n",
       "    </tr>\n",
       "    <tr>\n",
       "      <th>...</th>\n",
       "      <td>...</td>\n",
       "      <td>...</td>\n",
       "      <td>...</td>\n",
       "      <td>...</td>\n",
       "      <td>...</td>\n",
       "      <td>...</td>\n",
       "      <td>...</td>\n",
       "      <td>...</td>\n",
       "      <td>...</td>\n",
       "      <td>...</td>\n",
       "      <td>...</td>\n",
       "      <td>...</td>\n",
       "      <td>...</td>\n",
       "      <td>...</td>\n",
       "      <td>...</td>\n",
       "      <td>...</td>\n",
       "      <td>...</td>\n",
       "      <td>...</td>\n",
       "      <td>...</td>\n",
       "      <td>...</td>\n",
       "      <td>...</td>\n",
       "    </tr>\n",
       "    <tr>\n",
       "      <th>89</th>\n",
       "      <td>90</td>\n",
       "      <td>1</td>\n",
       "      <td>1.0053</td>\n",
       "      <td>0.98497</td>\n",
       "      <td>0.98985</td>\n",
       "      <td>1780000.0</td>\n",
       "      <td>0.99513</td>\n",
       "      <td>1.0154</td>\n",
       "      <td>0.99513</td>\n",
       "      <td>1.01540</td>\n",
       "      <td>...</td>\n",
       "      <td>1.38100</td>\n",
       "      <td>1.42690</td>\n",
       "      <td>1.37610</td>\n",
       "      <td>1.42690</td>\n",
       "      <td>2320000.0</td>\n",
       "      <td>1.36600</td>\n",
       "      <td>1.40660</td>\n",
       "      <td>1.36600</td>\n",
       "      <td>1.39640</td>\n",
       "      <td>1470000.0</td>\n",
       "    </tr>\n",
       "    <tr>\n",
       "      <th>90</th>\n",
       "      <td>91</td>\n",
       "      <td>1</td>\n",
       "      <td>1.0000</td>\n",
       "      <td>0.96547</td>\n",
       "      <td>0.96547</td>\n",
       "      <td>701000.0</td>\n",
       "      <td>1.00510</td>\n",
       "      <td>1.0101</td>\n",
       "      <td>0.98527</td>\n",
       "      <td>0.99033</td>\n",
       "      <td>...</td>\n",
       "      <td>1.38720</td>\n",
       "      <td>1.40560</td>\n",
       "      <td>1.38260</td>\n",
       "      <td>1.40560</td>\n",
       "      <td>1390000.0</td>\n",
       "      <td>1.40560</td>\n",
       "      <td>1.40560</td>\n",
       "      <td>1.37800</td>\n",
       "      <td>1.38720</td>\n",
       "      <td>958000.0</td>\n",
       "    </tr>\n",
       "    <tr>\n",
       "      <th>91</th>\n",
       "      <td>92</td>\n",
       "      <td>1</td>\n",
       "      <td>1.0051</td>\n",
       "      <td>0.98542</td>\n",
       "      <td>0.98542</td>\n",
       "      <td>5620000.0</td>\n",
       "      <td>1.00990</td>\n",
       "      <td>1.0197</td>\n",
       "      <td>0.99527</td>\n",
       "      <td>0.99527</td>\n",
       "      <td>...</td>\n",
       "      <td>2.27630</td>\n",
       "      <td>2.34530</td>\n",
       "      <td>2.27630</td>\n",
       "      <td>2.32560</td>\n",
       "      <td>6600000.0</td>\n",
       "      <td>2.22700</td>\n",
       "      <td>2.29130</td>\n",
       "      <td>2.22230</td>\n",
       "      <td>2.28140</td>\n",
       "      <td>5040000.0</td>\n",
       "    </tr>\n",
       "    <tr>\n",
       "      <th>92</th>\n",
       "      <td>93</td>\n",
       "      <td>1</td>\n",
       "      <td>1.0098</td>\n",
       "      <td>0.99213</td>\n",
       "      <td>0.99417</td>\n",
       "      <td>3200000.0</td>\n",
       "      <td>1.00200</td>\n",
       "      <td>1.0098</td>\n",
       "      <td>0.99811</td>\n",
       "      <td>1.00200</td>\n",
       "      <td>...</td>\n",
       "      <td>0.93512</td>\n",
       "      <td>0.95087</td>\n",
       "      <td>0.93118</td>\n",
       "      <td>0.94882</td>\n",
       "      <td>4690000.0</td>\n",
       "      <td>0.92331</td>\n",
       "      <td>0.93701</td>\n",
       "      <td>0.92331</td>\n",
       "      <td>0.93307</td>\n",
       "      <td>4770000.0</td>\n",
       "    </tr>\n",
       "    <tr>\n",
       "      <th>93</th>\n",
       "      <td>94</td>\n",
       "      <td>1</td>\n",
       "      <td>1.0098</td>\n",
       "      <td>1.00000</td>\n",
       "      <td>1.00420</td>\n",
       "      <td>805000.0</td>\n",
       "      <td>0.99573</td>\n",
       "      <td>1.0028</td>\n",
       "      <td>0.99011</td>\n",
       "      <td>1.00130</td>\n",
       "      <td>...</td>\n",
       "      <td>0.76685</td>\n",
       "      <td>0.78371</td>\n",
       "      <td>0.76685</td>\n",
       "      <td>0.78371</td>\n",
       "      <td>3130000.0</td>\n",
       "      <td>0.76124</td>\n",
       "      <td>0.76820</td>\n",
       "      <td>0.75843</td>\n",
       "      <td>0.76820</td>\n",
       "      <td>1040000.0</td>\n",
       "    </tr>\n",
       "  </tbody>\n",
       "</table>\n",
       "<p>94 rows × 2501 columns</p>\n",
       "</div>"
      ],
      "text/plain": [
       "    StId  O1     MA1      MI1       C1         V1       O2     MA2      MI2  \\\n",
       "0      1   1  1.0163  0.99640  1.00000  1260000.0  1.00000  1.0055  0.99106   \n",
       "1      2   1  1.0124  0.99160  0.99563  1720000.0  1.00400  1.0040  0.97882   \n",
       "2      3   1  1.0000  0.98269  0.98269   335000.0  1.00430  1.0087  0.99135   \n",
       "3      4   1  1.0152  1.00000  1.01030   227000.0  1.00490  1.0103  0.98441   \n",
       "4      5   1  1.0000  0.97850  0.97850   887000.0  0.98925  1.0056  0.98925   \n",
       "..   ...  ..     ...      ...      ...        ...      ...     ...      ...   \n",
       "89    90   1  1.0053  0.98497  0.98985  1780000.0  0.99513  1.0154  0.99513   \n",
       "90    91   1  1.0000  0.96547  0.96547   701000.0  1.00510  1.0101  0.98527   \n",
       "91    92   1  1.0051  0.98542  0.98542  5620000.0  1.00990  1.0197  0.99527   \n",
       "92    93   1  1.0098  0.99213  0.99417  3200000.0  1.00200  1.0098  0.99811   \n",
       "93    94   1  1.0098  1.00000  1.00420   805000.0  0.99573  1.0028  0.99011   \n",
       "\n",
       "         C2  ...     O499    MA499    MI499     C499       V499     O500  \\\n",
       "0   1.00000  ...  0.89015  0.90284  0.87934  0.90097  3930000.0  0.90457   \n",
       "1   0.98319  ...  2.18490  2.18890  2.15970  2.18050  2890000.0  2.19730   \n",
       "2   0.99135  ...  0.93184  0.94483  0.93184  0.93617   269000.0  0.93184   \n",
       "3   1.00000  ...  0.42043  0.44627  0.41017  0.44627  2370000.0  0.38966   \n",
       "4   0.99486  ...  1.28640  1.29630  1.27620  1.28640  1170000.0  1.27100   \n",
       "..      ...  ...      ...      ...      ...      ...        ...      ...   \n",
       "89  1.01540  ...  1.38100  1.42690  1.37610  1.42690  2320000.0  1.36600   \n",
       "90  0.99033  ...  1.38720  1.40560  1.38260  1.40560  1390000.0  1.40560   \n",
       "91  0.99527  ...  2.27630  2.34530  2.27630  2.32560  6600000.0  2.22700   \n",
       "92  1.00200  ...  0.93512  0.95087  0.93118  0.94882  4690000.0  0.92331   \n",
       "93  1.00130  ...  0.76685  0.78371  0.76685  0.78371  3130000.0  0.76124   \n",
       "\n",
       "      MA500    MI500     C500       V500  \n",
       "0   0.90457  0.88655  0.89015  1860000.0  \n",
       "1   2.20170  2.18050  2.18490  2040000.0  \n",
       "2   0.94050  0.91886  0.93184   395000.0  \n",
       "3   0.41509  0.38433  0.41509   988000.0  \n",
       "4   1.29160  1.26590  1.29160   969000.0  \n",
       "..      ...      ...      ...        ...  \n",
       "89  1.40660  1.36600  1.39640  1470000.0  \n",
       "90  1.40560  1.37800  1.38720   958000.0  \n",
       "91  2.29130  2.22230  2.28140  5040000.0  \n",
       "92  0.93701  0.92331  0.93307  4770000.0  \n",
       "93  0.76820  0.75843  0.76820  1040000.0  \n",
       "\n",
       "[94 rows x 2501 columns]"
      ]
     },
     "execution_count": 63,
     "metadata": {},
     "output_type": "execute_result"
    }
   ],
   "source": [
    "data"
   ]
  },
  {
   "cell_type": "code",
   "execution_count": 64,
   "metadata": {},
   "outputs": [
    {
     "name": "stdout",
     "output_type": "stream",
     "text": [
      "<class 'pandas.core.frame.DataFrame'>\n",
      "RangeIndex: 94 entries, 0 to 93\n",
      "Columns: 2501 entries, StId to V500\n",
      "dtypes: float64(2499), int64(2)\n",
      "memory usage: 1.8 MB\n"
     ]
    }
   ],
   "source": [
    "data.info()"
   ]
  },
  {
   "cell_type": "markdown",
   "metadata": {},
   "source": [
    "# Exploretory Data Analysis"
   ]
  },
  {
   "cell_type": "markdown",
   "metadata": {},
   "source": [
    "Now let's see if the change of price in $n$ previuos days gives prediction power for the change of price in the $n+1$th day. We set $n=9$."
   ]
  },
  {
   "cell_type": "markdown",
   "metadata": {},
   "source": [
    "we only need open and close of every day:"
   ]
  },
  {
   "cell_type": "code",
   "execution_count": 65,
   "metadata": {},
   "outputs": [],
   "source": [
    "import re\n",
    "\n",
    "# we use regular expression to select MA, MI and V columns in data and drop them\n",
    "data_cols = data.columns\n",
    "r = re.compile(\"^[MA, MI, V]\")\n",
    "drop_cols = filter(r.match, data_cols)"
   ]
  },
  {
   "cell_type": "code",
   "execution_count": 66,
   "metadata": {},
   "outputs": [],
   "source": [
    "data.drop(columns = drop_cols, axis=1, inplace=True)\n",
    "data.set_index('StId', inplace=True)"
   ]
  },
  {
   "cell_type": "markdown",
   "metadata": {},
   "source": [
    "How the closing price of the 94 stocks look like in 500 days?"
   ]
  },
  {
   "cell_type": "code",
   "execution_count": 101,
   "metadata": {},
   "outputs": [
    {
     "data": {
      "image/png": "[encoded data removed]",
      "text/plain": [
       "<Figure size 720x432 with 1 Axes>"
      ]
     },
     "metadata": {
      "needs_background": "light"
     },
     "output_type": "display_data"
    }
   ],
   "source": [
    "# we use regular expression to select Close columns in data\n",
    "%matplotlib inline\n",
    "\n",
    "r = re.compile(\"^C\")\n",
    "close_cols = filter(r.match, data_cols)\n",
    "date_dis = np.linspace(1,500,6, dtype=int)\n",
    "ax = data[close_cols].T.plot(figsize=(10,6), legend=False,\n",
    "                        xticks=date_dis,\n",
    "                        xlabel='Day', ylabel='Scaled close price of the stock', title='Scaled close price of the 94 stocks in the dataset over 500 days')\n",
    "ax.set_xticklabels(date_dis)\n",
    "plt.savefig('images/stocks_closePrice.png')"
   ]
  },
  {
   "cell_type": "code",
   "execution_count": 8,
   "metadata": {},
   "outputs": [
    {
     "data": {
      "text/plain": [
       "1      0.97850\n",
       "2      0.99486\n",
       "3      0.99486\n",
       "4      0.98925\n",
       "5      1.00560\n",
       "        ...   \n",
       "496    1.25090\n",
       "497    1.24580\n",
       "498    1.32660\n",
       "499    1.28640\n",
       "500    1.29160\n",
       "Name: 5, Length: 500, dtype: float64"
      ]
     },
     "execution_count": 8,
     "metadata": {},
     "output_type": "execute_result"
    }
   ],
   "source": [
    "r = re.compile(\"^C\")\n",
    "close_cols = filter(r.match, data_cols)\n",
    "close = data.loc[5, close_cols].T\n",
    "close_renamed = close.rename(lambda s: s.strip(\"C\"))#.plot(figsize=(10,6), legend=False)\n",
    "close_renamed.index = close_renamed.index.astype('int64')\n",
    "close_renamed"
   ]
  },
  {
   "cell_type": "markdown",
   "metadata": {},
   "source": [
    "There are very big jumps on some days that are not explained in the kaggle competition or repository of Buffalo Capital Management."
   ]
  },
  {
   "cell_type": "markdown",
   "metadata": {},
   "source": [
    "We put 10 days data of stocks into a single dataframe to feed it into the machine learning algorithms."
   ]
  },
  {
   "cell_type": "code",
   "execution_count": 9,
   "metadata": {},
   "outputs": [],
   "source": [
    "memory_days = 10\n",
    "num_cols = 2 # open and close columns\n",
    "start_day = 1\n",
    "last_day = 440 # from start_day to last_day, make 10 day windows. So 450 days for training and 50 days for backtesting\n",
    "X_windows = [0] # X_windows are stored as days starts at day=1 (workaround)\n",
    "\n",
    "# scale a dataframe so the first column (opening price) is 1.0\n",
    "def scaler(df):\n",
    "    for column in df.columns:\n",
    "        df[column] = df[column] / df.iloc[:,0]\n",
    "    return df\n",
    "\n",
    "for day in range(start_day, last_day+1):\n",
    "    # select the 10 day window\n",
    "    rolling_window = data.iloc[:, day*num_cols-num_cols:(day+memory_days)*num_cols-num_cols]\n",
    "    # scale data to 'O1' column\n",
    "    rolling_window_scaled = scaler(rolling_window)\n",
    "    X_windows.append(rolling_window_scaled)\n",
    "    # set equal column names for all dataframe to concatenate\n",
    "    X_windows[day].columns = X_windows[start_day].columns\n",
    "\n",
    "# concatenate all 10 day windows in one dataframe\n",
    "X_windows_list = [X_windows[day] for day in range(start_day, last_day+1)]    \n",
    "X_windows_con = pd.concat(X_windows_list)    "
   ]
  },
  {
   "cell_type": "code",
   "execution_count": 10,
   "metadata": {},
   "outputs": [],
   "source": [
    "# Split the data into train, test and backtest data. The train data is used in machine learning to fit the model and the test data is to ckeck the model on one signle 10 day window.\n",
    "# The backtest data is used to check the strategy by using the prediction of the model.\n",
    "n_stocks = 94\n",
    "train_data = X_windows_con.iloc[:(last_day-1)*n_stocks, :]\n",
    "test_data = X_windows_con.iloc[(last_day-1)*n_stocks:, :]\n",
    "backtest_data = data.iloc[:, num_cols*(last_day+memory_days):]"
   ]
  },
  {
   "cell_type": "code",
   "execution_count": 11,
   "metadata": {},
   "outputs": [
    {
     "data": {
      "text/html": [
       "<div>\n",
       "<style scoped>\n",
       "    .dataframe tbody tr th:only-of-type {\n",
       "        vertical-align: middle;\n",
       "    }\n",
       "\n",
       "    .dataframe tbody tr th {\n",
       "        vertical-align: top;\n",
       "    }\n",
       "\n",
       "    .dataframe thead th {\n",
       "        text-align: right;\n",
       "    }\n",
       "</style>\n",
       "<table border=\"1\" class=\"dataframe\">\n",
       "  <thead>\n",
       "    <tr style=\"text-align: right;\">\n",
       "      <th></th>\n",
       "      <th>O1</th>\n",
       "      <th>C1</th>\n",
       "      <th>O2</th>\n",
       "      <th>C2</th>\n",
       "      <th>O3</th>\n",
       "      <th>C3</th>\n",
       "      <th>O4</th>\n",
       "      <th>C4</th>\n",
       "      <th>O5</th>\n",
       "      <th>C5</th>\n",
       "      <th>O6</th>\n",
       "      <th>C6</th>\n",
       "      <th>O7</th>\n",
       "      <th>C7</th>\n",
       "      <th>O8</th>\n",
       "      <th>C8</th>\n",
       "      <th>O9</th>\n",
       "      <th>C9</th>\n",
       "      <th>O10</th>\n",
       "      <th>C10</th>\n",
       "    </tr>\n",
       "    <tr>\n",
       "      <th>StId</th>\n",
       "      <th></th>\n",
       "      <th></th>\n",
       "      <th></th>\n",
       "      <th></th>\n",
       "      <th></th>\n",
       "      <th></th>\n",
       "      <th></th>\n",
       "      <th></th>\n",
       "      <th></th>\n",
       "      <th></th>\n",
       "      <th></th>\n",
       "      <th></th>\n",
       "      <th></th>\n",
       "      <th></th>\n",
       "      <th></th>\n",
       "      <th></th>\n",
       "      <th></th>\n",
       "      <th></th>\n",
       "      <th></th>\n",
       "      <th></th>\n",
       "    </tr>\n",
       "  </thead>\n",
       "  <tbody>\n",
       "    <tr>\n",
       "      <th>1</th>\n",
       "      <td>1.0</td>\n",
       "      <td>1.00000</td>\n",
       "      <td>1.00000</td>\n",
       "      <td>1.00000</td>\n",
       "      <td>1.00550</td>\n",
       "      <td>1.00000</td>\n",
       "      <td>0.98919</td>\n",
       "      <td>1.00550</td>\n",
       "      <td>0.98385</td>\n",
       "      <td>0.98919</td>\n",
       "      <td>0.98746</td>\n",
       "      <td>0.98385</td>\n",
       "      <td>0.98558</td>\n",
       "      <td>0.98746</td>\n",
       "      <td>1.00360</td>\n",
       "      <td>0.98558</td>\n",
       "      <td>1.00720</td>\n",
       "      <td>1.00360</td>\n",
       "      <td>1.01270</td>\n",
       "      <td>1.00720</td>\n",
       "    </tr>\n",
       "    <tr>\n",
       "      <th>2</th>\n",
       "      <td>1.0</td>\n",
       "      <td>0.99563</td>\n",
       "      <td>1.00400</td>\n",
       "      <td>0.98319</td>\n",
       "      <td>1.00400</td>\n",
       "      <td>1.00000</td>\n",
       "      <td>1.00400</td>\n",
       "      <td>1.00000</td>\n",
       "      <td>1.00400</td>\n",
       "      <td>1.00840</td>\n",
       "      <td>0.99563</td>\n",
       "      <td>0.99563</td>\n",
       "      <td>0.96639</td>\n",
       "      <td>0.98723</td>\n",
       "      <td>0.96639</td>\n",
       "      <td>0.97042</td>\n",
       "      <td>0.94958</td>\n",
       "      <td>0.97042</td>\n",
       "      <td>0.94118</td>\n",
       "      <td>0.95798</td>\n",
       "    </tr>\n",
       "    <tr>\n",
       "      <th>3</th>\n",
       "      <td>1.0</td>\n",
       "      <td>0.98269</td>\n",
       "      <td>1.00430</td>\n",
       "      <td>0.99135</td>\n",
       "      <td>0.98269</td>\n",
       "      <td>0.99567</td>\n",
       "      <td>1.00000</td>\n",
       "      <td>0.99135</td>\n",
       "      <td>0.98269</td>\n",
       "      <td>1.00000</td>\n",
       "      <td>0.97836</td>\n",
       "      <td>0.98269</td>\n",
       "      <td>0.98269</td>\n",
       "      <td>0.97404</td>\n",
       "      <td>0.99567</td>\n",
       "      <td>0.98702</td>\n",
       "      <td>0.98702</td>\n",
       "      <td>0.99567</td>\n",
       "      <td>0.98702</td>\n",
       "      <td>0.98269</td>\n",
       "    </tr>\n",
       "    <tr>\n",
       "      <th>4</th>\n",
       "      <td>1.0</td>\n",
       "      <td>1.01030</td>\n",
       "      <td>1.00490</td>\n",
       "      <td>1.00000</td>\n",
       "      <td>1.01520</td>\n",
       "      <td>1.01520</td>\n",
       "      <td>0.97949</td>\n",
       "      <td>1.01520</td>\n",
       "      <td>0.96390</td>\n",
       "      <td>0.97416</td>\n",
       "      <td>0.94832</td>\n",
       "      <td>0.95857</td>\n",
       "      <td>0.90771</td>\n",
       "      <td>0.94340</td>\n",
       "      <td>0.90238</td>\n",
       "      <td>0.90238</td>\n",
       "      <td>0.90238</td>\n",
       "      <td>0.90238</td>\n",
       "      <td>0.89746</td>\n",
       "      <td>0.91263</td>\n",
       "    </tr>\n",
       "    <tr>\n",
       "      <th>5</th>\n",
       "      <td>1.0</td>\n",
       "      <td>0.97850</td>\n",
       "      <td>0.98925</td>\n",
       "      <td>0.99486</td>\n",
       "      <td>1.00000</td>\n",
       "      <td>0.99486</td>\n",
       "      <td>1.00000</td>\n",
       "      <td>0.98925</td>\n",
       "      <td>1.00000</td>\n",
       "      <td>1.00560</td>\n",
       "      <td>1.01640</td>\n",
       "      <td>1.00000</td>\n",
       "      <td>1.01070</td>\n",
       "      <td>1.01070</td>\n",
       "      <td>1.01070</td>\n",
       "      <td>1.01070</td>\n",
       "      <td>1.02150</td>\n",
       "      <td>1.00560</td>\n",
       "      <td>1.00560</td>\n",
       "      <td>1.02150</td>\n",
       "    </tr>\n",
       "  </tbody>\n",
       "</table>\n",
       "</div>"
      ],
      "text/plain": [
       "       O1       C1       O2       C2       O3       C3       O4       C4  \\\n",
       "StId                                                                       \n",
       "1     1.0  1.00000  1.00000  1.00000  1.00550  1.00000  0.98919  1.00550   \n",
       "2     1.0  0.99563  1.00400  0.98319  1.00400  1.00000  1.00400  1.00000   \n",
       "3     1.0  0.98269  1.00430  0.99135  0.98269  0.99567  1.00000  0.99135   \n",
       "4     1.0  1.01030  1.00490  1.00000  1.01520  1.01520  0.97949  1.01520   \n",
       "5     1.0  0.97850  0.98925  0.99486  1.00000  0.99486  1.00000  0.98925   \n",
       "\n",
       "           O5       C5       O6       C6       O7       C7       O8       C8  \\\n",
       "StId                                                                           \n",
       "1     0.98385  0.98919  0.98746  0.98385  0.98558  0.98746  1.00360  0.98558   \n",
       "2     1.00400  1.00840  0.99563  0.99563  0.96639  0.98723  0.96639  0.97042   \n",
       "3     0.98269  1.00000  0.97836  0.98269  0.98269  0.97404  0.99567  0.98702   \n",
       "4     0.96390  0.97416  0.94832  0.95857  0.90771  0.94340  0.90238  0.90238   \n",
       "5     1.00000  1.00560  1.01640  1.00000  1.01070  1.01070  1.01070  1.01070   \n",
       "\n",
       "           O9       C9      O10      C10  \n",
       "StId                                      \n",
       "1     1.00720  1.00360  1.01270  1.00720  \n",
       "2     0.94958  0.97042  0.94118  0.95798  \n",
       "3     0.98702  0.99567  0.98702  0.98269  \n",
       "4     0.90238  0.90238  0.89746  0.91263  \n",
       "5     1.02150  1.00560  1.00560  1.02150  "
      ]
     },
     "execution_count": 11,
     "metadata": {},
     "output_type": "execute_result"
    }
   ],
   "source": [
    "train_data.head()"
   ]
  },
  {
   "cell_type": "code",
   "execution_count": 12,
   "metadata": {},
   "outputs": [
    {
     "data": {
      "text/html": [
       "<div>\n",
       "<style scoped>\n",
       "    .dataframe tbody tr th:only-of-type {\n",
       "        vertical-align: middle;\n",
       "    }\n",
       "\n",
       "    .dataframe tbody tr th {\n",
       "        vertical-align: top;\n",
       "    }\n",
       "\n",
       "    .dataframe thead th {\n",
       "        text-align: right;\n",
       "    }\n",
       "</style>\n",
       "<table border=\"1\" class=\"dataframe\">\n",
       "  <thead>\n",
       "    <tr style=\"text-align: right;\">\n",
       "      <th></th>\n",
       "      <th>O1</th>\n",
       "      <th>C1</th>\n",
       "      <th>O2</th>\n",
       "      <th>C2</th>\n",
       "      <th>O3</th>\n",
       "      <th>C3</th>\n",
       "      <th>O4</th>\n",
       "      <th>C4</th>\n",
       "      <th>O5</th>\n",
       "      <th>C5</th>\n",
       "      <th>O6</th>\n",
       "      <th>C6</th>\n",
       "      <th>O7</th>\n",
       "      <th>C7</th>\n",
       "      <th>O8</th>\n",
       "      <th>C8</th>\n",
       "      <th>O9</th>\n",
       "      <th>C9</th>\n",
       "      <th>O10</th>\n",
       "      <th>C10</th>\n",
       "    </tr>\n",
       "    <tr>\n",
       "      <th>StId</th>\n",
       "      <th></th>\n",
       "      <th></th>\n",
       "      <th></th>\n",
       "      <th></th>\n",
       "      <th></th>\n",
       "      <th></th>\n",
       "      <th></th>\n",
       "      <th></th>\n",
       "      <th></th>\n",
       "      <th></th>\n",
       "      <th></th>\n",
       "      <th></th>\n",
       "      <th></th>\n",
       "      <th></th>\n",
       "      <th></th>\n",
       "      <th></th>\n",
       "      <th></th>\n",
       "      <th></th>\n",
       "      <th></th>\n",
       "      <th></th>\n",
       "    </tr>\n",
       "  </thead>\n",
       "  <tbody>\n",
       "    <tr>\n",
       "      <th>1</th>\n",
       "      <td>1.0</td>\n",
       "      <td>0.98558</td>\n",
       "      <td>0.98198</td>\n",
       "      <td>0.99827</td>\n",
       "      <td>1.01630</td>\n",
       "      <td>0.98025</td>\n",
       "      <td>1.01440</td>\n",
       "      <td>1.01630</td>\n",
       "      <td>1.01440</td>\n",
       "      <td>1.01440</td>\n",
       "      <td>1.01800</td>\n",
       "      <td>1.01630</td>\n",
       "      <td>1.02160</td>\n",
       "      <td>1.01800</td>\n",
       "      <td>1.04150</td>\n",
       "      <td>1.02160</td>\n",
       "      <td>1.04510</td>\n",
       "      <td>1.05050</td>\n",
       "      <td>1.02520</td>\n",
       "      <td>1.04510</td>\n",
       "    </tr>\n",
       "    <tr>\n",
       "      <th>2</th>\n",
       "      <td>1.0</td>\n",
       "      <td>2.01680</td>\n",
       "      <td>2.05040</td>\n",
       "      <td>2.03360</td>\n",
       "      <td>2.03800</td>\n",
       "      <td>2.04200</td>\n",
       "      <td>2.07160</td>\n",
       "      <td>2.02960</td>\n",
       "      <td>2.05480</td>\n",
       "      <td>2.07160</td>\n",
       "      <td>2.05040</td>\n",
       "      <td>2.05040</td>\n",
       "      <td>2.04640</td>\n",
       "      <td>2.05040</td>\n",
       "      <td>2.06720</td>\n",
       "      <td>2.04200</td>\n",
       "      <td>2.06320</td>\n",
       "      <td>2.06320</td>\n",
       "      <td>2.10080</td>\n",
       "      <td>2.05040</td>\n",
       "    </tr>\n",
       "    <tr>\n",
       "      <th>3</th>\n",
       "      <td>1.0</td>\n",
       "      <td>0.81608</td>\n",
       "      <td>0.86765</td>\n",
       "      <td>0.85900</td>\n",
       "      <td>0.86332</td>\n",
       "      <td>0.86332</td>\n",
       "      <td>0.86332</td>\n",
       "      <td>0.86765</td>\n",
       "      <td>0.86765</td>\n",
       "      <td>0.86332</td>\n",
       "      <td>0.85467</td>\n",
       "      <td>0.85900</td>\n",
       "      <td>0.85467</td>\n",
       "      <td>0.85034</td>\n",
       "      <td>0.84169</td>\n",
       "      <td>0.85034</td>\n",
       "      <td>0.85467</td>\n",
       "      <td>0.84169</td>\n",
       "      <td>0.85034</td>\n",
       "      <td>0.85467</td>\n",
       "    </tr>\n",
       "    <tr>\n",
       "      <th>4</th>\n",
       "      <td>1.0</td>\n",
       "      <td>0.40484</td>\n",
       "      <td>0.39459</td>\n",
       "      <td>0.42043</td>\n",
       "      <td>0.39459</td>\n",
       "      <td>0.39992</td>\n",
       "      <td>0.39992</td>\n",
       "      <td>0.39992</td>\n",
       "      <td>0.39459</td>\n",
       "      <td>0.39459</td>\n",
       "      <td>0.39992</td>\n",
       "      <td>0.39992</td>\n",
       "      <td>0.39992</td>\n",
       "      <td>0.40484</td>\n",
       "      <td>0.41017</td>\n",
       "      <td>0.40484</td>\n",
       "      <td>0.41509</td>\n",
       "      <td>0.41017</td>\n",
       "      <td>0.42576</td>\n",
       "      <td>0.42043</td>\n",
       "    </tr>\n",
       "    <tr>\n",
       "      <th>5</th>\n",
       "      <td>1.0</td>\n",
       "      <td>1.00840</td>\n",
       "      <td>1.05420</td>\n",
       "      <td>1.03410</td>\n",
       "      <td>1.04390</td>\n",
       "      <td>1.04390</td>\n",
       "      <td>1.03930</td>\n",
       "      <td>1.04390</td>\n",
       "      <td>1.06960</td>\n",
       "      <td>1.04910</td>\n",
       "      <td>1.08460</td>\n",
       "      <td>1.06960</td>\n",
       "      <td>1.06960</td>\n",
       "      <td>1.09490</td>\n",
       "      <td>1.06450</td>\n",
       "      <td>1.07430</td>\n",
       "      <td>1.10510</td>\n",
       "      <td>1.05930</td>\n",
       "      <td>1.12520</td>\n",
       "      <td>1.10510</td>\n",
       "    </tr>\n",
       "  </tbody>\n",
       "</table>\n",
       "</div>"
      ],
      "text/plain": [
       "       O1       C1       O2       C2       O3       C3       O4       C4  \\\n",
       "StId                                                                       \n",
       "1     1.0  0.98558  0.98198  0.99827  1.01630  0.98025  1.01440  1.01630   \n",
       "2     1.0  2.01680  2.05040  2.03360  2.03800  2.04200  2.07160  2.02960   \n",
       "3     1.0  0.81608  0.86765  0.85900  0.86332  0.86332  0.86332  0.86765   \n",
       "4     1.0  0.40484  0.39459  0.42043  0.39459  0.39992  0.39992  0.39992   \n",
       "5     1.0  1.00840  1.05420  1.03410  1.04390  1.04390  1.03930  1.04390   \n",
       "\n",
       "           O5       C5       O6       C6       O7       C7       O8       C8  \\\n",
       "StId                                                                           \n",
       "1     1.01440  1.01440  1.01800  1.01630  1.02160  1.01800  1.04150  1.02160   \n",
       "2     2.05480  2.07160  2.05040  2.05040  2.04640  2.05040  2.06720  2.04200   \n",
       "3     0.86765  0.86332  0.85467  0.85900  0.85467  0.85034  0.84169  0.85034   \n",
       "4     0.39459  0.39459  0.39992  0.39992  0.39992  0.40484  0.41017  0.40484   \n",
       "5     1.06960  1.04910  1.08460  1.06960  1.06960  1.09490  1.06450  1.07430   \n",
       "\n",
       "           O9       C9      O10      C10  \n",
       "StId                                      \n",
       "1     1.04510  1.05050  1.02520  1.04510  \n",
       "2     2.06320  2.06320  2.10080  2.05040  \n",
       "3     0.85467  0.84169  0.85034  0.85467  \n",
       "4     0.41509  0.41017  0.42576  0.42043  \n",
       "5     1.10510  1.05930  1.12520  1.10510  "
      ]
     },
     "execution_count": 12,
     "metadata": {},
     "output_type": "execute_result"
    }
   ],
   "source": [
    "test_data.head()"
   ]
  },
  {
   "cell_type": "code",
   "execution_count": 13,
   "metadata": {},
   "outputs": [
    {
     "data": {
      "text/html": [
       "<div>\n",
       "<style scoped>\n",
       "    .dataframe tbody tr th:only-of-type {\n",
       "        vertical-align: middle;\n",
       "    }\n",
       "\n",
       "    .dataframe tbody tr th {\n",
       "        vertical-align: top;\n",
       "    }\n",
       "\n",
       "    .dataframe thead th {\n",
       "        text-align: right;\n",
       "    }\n",
       "</style>\n",
       "<table border=\"1\" class=\"dataframe\">\n",
       "  <thead>\n",
       "    <tr style=\"text-align: right;\">\n",
       "      <th></th>\n",
       "      <th>O451</th>\n",
       "      <th>C451</th>\n",
       "      <th>O452</th>\n",
       "      <th>C452</th>\n",
       "      <th>O453</th>\n",
       "      <th>C453</th>\n",
       "      <th>O454</th>\n",
       "      <th>C454</th>\n",
       "      <th>O455</th>\n",
       "      <th>C455</th>\n",
       "      <th>...</th>\n",
       "      <th>O496</th>\n",
       "      <th>C496</th>\n",
       "      <th>O497</th>\n",
       "      <th>C497</th>\n",
       "      <th>O498</th>\n",
       "      <th>C498</th>\n",
       "      <th>O499</th>\n",
       "      <th>C499</th>\n",
       "      <th>O500</th>\n",
       "      <th>C500</th>\n",
       "    </tr>\n",
       "    <tr>\n",
       "      <th>StId</th>\n",
       "      <th></th>\n",
       "      <th></th>\n",
       "      <th></th>\n",
       "      <th></th>\n",
       "      <th></th>\n",
       "      <th></th>\n",
       "      <th></th>\n",
       "      <th></th>\n",
       "      <th></th>\n",
       "      <th></th>\n",
       "      <th></th>\n",
       "      <th></th>\n",
       "      <th></th>\n",
       "      <th></th>\n",
       "      <th></th>\n",
       "      <th></th>\n",
       "      <th></th>\n",
       "      <th></th>\n",
       "      <th></th>\n",
       "      <th></th>\n",
       "      <th></th>\n",
       "    </tr>\n",
       "  </thead>\n",
       "  <tbody>\n",
       "    <tr>\n",
       "      <th>1</th>\n",
       "      <td>1.01440</td>\n",
       "      <td>1.01630</td>\n",
       "      <td>1.01440</td>\n",
       "      <td>1.01440</td>\n",
       "      <td>1.01270</td>\n",
       "      <td>1.01440</td>\n",
       "      <td>1.03070</td>\n",
       "      <td>1.01270</td>\n",
       "      <td>1.02710</td>\n",
       "      <td>1.03070</td>\n",
       "      <td>...</td>\n",
       "      <td>0.98025</td>\n",
       "      <td>0.99467</td>\n",
       "      <td>0.96757</td>\n",
       "      <td>0.98025</td>\n",
       "      <td>0.90097</td>\n",
       "      <td>0.96757</td>\n",
       "      <td>0.89015</td>\n",
       "      <td>0.90097</td>\n",
       "      <td>0.90457</td>\n",
       "      <td>0.89015</td>\n",
       "    </tr>\n",
       "    <tr>\n",
       "      <th>2</th>\n",
       "      <td>2.02960</td>\n",
       "      <td>2.05040</td>\n",
       "      <td>2.02120</td>\n",
       "      <td>2.02960</td>\n",
       "      <td>2.01280</td>\n",
       "      <td>2.01680</td>\n",
       "      <td>2.03360</td>\n",
       "      <td>2.02120</td>\n",
       "      <td>1.99600</td>\n",
       "      <td>2.02120</td>\n",
       "      <td>...</td>\n",
       "      <td>2.10080</td>\n",
       "      <td>2.10520</td>\n",
       "      <td>2.11760</td>\n",
       "      <td>2.09240</td>\n",
       "      <td>2.21850</td>\n",
       "      <td>2.14290</td>\n",
       "      <td>2.18490</td>\n",
       "      <td>2.18050</td>\n",
       "      <td>2.19730</td>\n",
       "      <td>2.18490</td>\n",
       "    </tr>\n",
       "    <tr>\n",
       "      <th>3</th>\n",
       "      <td>0.85034</td>\n",
       "      <td>0.84169</td>\n",
       "      <td>0.84602</td>\n",
       "      <td>0.84169</td>\n",
       "      <td>0.84602</td>\n",
       "      <td>0.84169</td>\n",
       "      <td>0.86332</td>\n",
       "      <td>0.84602</td>\n",
       "      <td>0.84602</td>\n",
       "      <td>0.84169</td>\n",
       "      <td>...</td>\n",
       "      <td>0.99207</td>\n",
       "      <td>0.99207</td>\n",
       "      <td>0.94915</td>\n",
       "      <td>0.99639</td>\n",
       "      <td>0.94483</td>\n",
       "      <td>0.94915</td>\n",
       "      <td>0.93184</td>\n",
       "      <td>0.93617</td>\n",
       "      <td>0.93184</td>\n",
       "      <td>0.93184</td>\n",
       "    </tr>\n",
       "    <tr>\n",
       "      <th>4</th>\n",
       "      <td>0.39992</td>\n",
       "      <td>0.41509</td>\n",
       "      <td>0.39992</td>\n",
       "      <td>0.39992</td>\n",
       "      <td>0.39992</td>\n",
       "      <td>0.39459</td>\n",
       "      <td>0.38433</td>\n",
       "      <td>0.39992</td>\n",
       "      <td>0.38966</td>\n",
       "      <td>0.38966</td>\n",
       "      <td>...</td>\n",
       "      <td>0.43068</td>\n",
       "      <td>0.42576</td>\n",
       "      <td>0.42576</td>\n",
       "      <td>0.42576</td>\n",
       "      <td>0.44627</td>\n",
       "      <td>0.42043</td>\n",
       "      <td>0.42043</td>\n",
       "      <td>0.44627</td>\n",
       "      <td>0.38966</td>\n",
       "      <td>0.41509</td>\n",
       "    </tr>\n",
       "    <tr>\n",
       "      <th>5</th>\n",
       "      <td>1.12520</td>\n",
       "      <td>1.12520</td>\n",
       "      <td>1.13040</td>\n",
       "      <td>1.12520</td>\n",
       "      <td>1.13040</td>\n",
       "      <td>1.13040</td>\n",
       "      <td>1.09490</td>\n",
       "      <td>1.12010</td>\n",
       "      <td>1.10000</td>\n",
       "      <td>1.09490</td>\n",
       "      <td>...</td>\n",
       "      <td>1.24070</td>\n",
       "      <td>1.25090</td>\n",
       "      <td>1.30650</td>\n",
       "      <td>1.24580</td>\n",
       "      <td>1.29160</td>\n",
       "      <td>1.32660</td>\n",
       "      <td>1.28640</td>\n",
       "      <td>1.28640</td>\n",
       "      <td>1.27100</td>\n",
       "      <td>1.29160</td>\n",
       "    </tr>\n",
       "  </tbody>\n",
       "</table>\n",
       "<p>5 rows × 100 columns</p>\n",
       "</div>"
      ],
      "text/plain": [
       "         O451     C451     O452     C452     O453     C453     O454     C454  \\\n",
       "StId                                                                           \n",
       "1     1.01440  1.01630  1.01440  1.01440  1.01270  1.01440  1.03070  1.01270   \n",
       "2     2.02960  2.05040  2.02120  2.02960  2.01280  2.01680  2.03360  2.02120   \n",
       "3     0.85034  0.84169  0.84602  0.84169  0.84602  0.84169  0.86332  0.84602   \n",
       "4     0.39992  0.41509  0.39992  0.39992  0.39992  0.39459  0.38433  0.39992   \n",
       "5     1.12520  1.12520  1.13040  1.12520  1.13040  1.13040  1.09490  1.12010   \n",
       "\n",
       "         O455     C455  ...     O496     C496     O497     C497     O498  \\\n",
       "StId                    ...                                                \n",
       "1     1.02710  1.03070  ...  0.98025  0.99467  0.96757  0.98025  0.90097   \n",
       "2     1.99600  2.02120  ...  2.10080  2.10520  2.11760  2.09240  2.21850   \n",
       "3     0.84602  0.84169  ...  0.99207  0.99207  0.94915  0.99639  0.94483   \n",
       "4     0.38966  0.38966  ...  0.43068  0.42576  0.42576  0.42576  0.44627   \n",
       "5     1.10000  1.09490  ...  1.24070  1.25090  1.30650  1.24580  1.29160   \n",
       "\n",
       "         C498     O499     C499     O500     C500  \n",
       "StId                                               \n",
       "1     0.96757  0.89015  0.90097  0.90457  0.89015  \n",
       "2     2.14290  2.18490  2.18050  2.19730  2.18490  \n",
       "3     0.94915  0.93184  0.93617  0.93184  0.93184  \n",
       "4     0.42043  0.42043  0.44627  0.38966  0.41509  \n",
       "5     1.32660  1.28640  1.28640  1.27100  1.29160  \n",
       "\n",
       "[5 rows x 100 columns]"
      ]
     },
     "execution_count": 13,
     "metadata": {},
     "output_type": "execute_result"
    }
   ],
   "source": [
    "backtest_data.head()"
   ]
  },
  {
   "cell_type": "code",
   "execution_count": 14,
   "metadata": {},
   "outputs": [],
   "source": [
    "# remove 10th day close column of test data\n",
    "X_test = test_data.drop(columns = ['C10'])\n",
    "\n",
    "# set the upward change in price as 1 and the downward as 0\n",
    "y_test = (test_data.loc[:,'C10'] > test_data.loc[:,'O10']).astype('uint8')"
   ]
  },
  {
   "cell_type": "code",
   "execution_count": 15,
   "metadata": {},
   "outputs": [],
   "source": [
    "# We set 9 days data to be the predictor of the 10th day\n",
    "X_train = train_data.drop(columns = ['C10'])\n",
    "\n",
    "# set the upward change in price as 1 and the downward as 0\n",
    "y_train = (train_data.loc[:,'C10'] > train_data.loc[:,'O10']).astype('uint8')"
   ]
  },
  {
   "cell_type": "code",
   "execution_count": 16,
   "metadata": {},
   "outputs": [
    {
     "data": {
      "image/png": "[encoded data removed]",
      "text/plain": [
       "<Figure size 432x288 with 1 Axes>"
      ]
     },
     "metadata": {
      "needs_background": "light"
     },
     "output_type": "display_data"
    }
   ],
   "source": [
    "# find the correlation between the interday and intraday stock movement\n",
    "x = train_data.loc[:,'O10']/train_data.loc[:,'C9']\n",
    "y = train_data.loc[:,'C10']/train_data.loc[:,'O10']\n",
    "\n",
    "m, b = np.polyfit(x, y, 1)\n",
    "r = y.corr(x)\n",
    "plt.scatter(x, y)\n",
    "plt.plot(x, m*x+b, '-r')\n",
    "plt.text(1,1.15, 'r={:.2f}'.format(r), fontsize=16)\n",
    "plt.xlim((.7,1.3))\n",
    "plt.ylim((.7,1.3))\n",
    "plt.xlabel(\"O10 / C9\")\n",
    "plt.ylabel(\"C10 / O10\")\n",
    "plt.title(\"Correlation between interday and intraday stock movement\")\n",
    "plt.savefig('images/correlation_interday_intraday.png')\n",
    "plt.show()"
   ]
  },
  {
   "cell_type": "markdown",
   "metadata": {},
   "source": [
    "The big jumps in some days as we saw in the first figure casues the correltaion (r) to be less negative. We can see the outliers if we zoom out."
   ]
  },
  {
   "cell_type": "code",
   "execution_count": 17,
   "metadata": {},
   "outputs": [
    {
     "data": {
      "text/plain": [
       "(0.2, 4.3)"
      ]
     },
     "execution_count": 17,
     "metadata": {},
     "output_type": "execute_result"
    },
    {
     "data": {
      "image/png": "[encoded data removed]",
      "text/plain": [
       "<Figure size 432x288 with 1 Axes>"
      ]
     },
     "metadata": {
      "needs_background": "light"
     },
     "output_type": "display_data"
    }
   ],
   "source": [
    "plt.scatter(x, y)\n",
    "plt.xlim((.2,4.3))\n",
    "plt.ylim((.2,4.3))"
   ]
  },
  {
   "cell_type": "markdown",
   "metadata": {},
   "source": [
    "In an ideal case, we should find the reason and correct or clean the dataset. At this phase, we let them stay in the dataset."
   ]
  },
  {
   "cell_type": "markdown",
   "metadata": {},
   "source": [
    "# Model"
   ]
  },
  {
   "cell_type": "markdown",
   "metadata": {},
   "source": [
    "we simply choose the random forset model at this stage of the project."
   ]
  },
  {
   "cell_type": "code",
   "execution_count": 18,
   "metadata": {},
   "outputs": [],
   "source": [
    "from sklearn.ensemble import GradientBoostingClassifier, RandomForestClassifier\n",
    "from sklearn import metrics,preprocessing\n",
    "from sklearn.model_selection import cross_val_predict"
   ]
  },
  {
   "cell_type": "code",
   "execution_count": 19,
   "metadata": {},
   "outputs": [
    {
     "name": "stdout",
     "output_type": "stream",
     "text": [
      "{'bootstrap': True, 'ccp_alpha': 0.0, 'class_weight': None, 'criterion': 'gini', 'max_depth': None, 'max_features': 'auto', 'max_leaf_nodes': None, 'max_samples': None, 'min_impurity_decrease': 0.0, 'min_impurity_split': None, 'min_samples_leaf': 1, 'min_samples_split': 2, 'min_weight_fraction_leaf': 0.0, 'n_estimators': 100, 'n_jobs': None, 'oob_score': False, 'random_state': 42, 'verbose': 0, 'warm_start': False}\n"
     ]
    }
   ],
   "source": [
    "forest_clf = RandomForestClassifier(random_state=42)\n",
    "params = forest_clf.get_params()\n",
    "print(params)\n",
    "y_predict = cross_val_predict(forest_clf, X_train, y_train, cv=5)"
   ]
  },
  {
   "cell_type": "markdown",
   "metadata": {},
   "source": [
    "let's look at confusion matrix"
   ]
  },
  {
   "cell_type": "code",
   "execution_count": 20,
   "metadata": {},
   "outputs": [],
   "source": [
    "from sklearn.metrics import confusion_matrix\n",
    "conf_mx = confusion_matrix(y_train, y_predict)"
   ]
  },
  {
   "cell_type": "code",
   "execution_count": 21,
   "metadata": {},
   "outputs": [
    {
     "data": {
      "text/plain": [
       "array([[0.86639906, 0.13360094],\n",
       "       [0.25671772, 0.74328228]])"
      ]
     },
     "execution_count": 21,
     "metadata": {},
     "output_type": "execute_result"
    }
   ],
   "source": [
    "# normalize confusion matrix\n",
    "row_sums = conf_mx.sum(axis=1, keepdims=True)\n",
    "norm_conf_mx = conf_mx / row_sums\n",
    "norm_conf_mx"
   ]
  },
  {
   "cell_type": "code",
   "execution_count": 22,
   "metadata": {},
   "outputs": [
    {
     "data": {
      "image/png": "[encoded data removed]",
      "text/plain": [
       "<Figure size 288x288 with 1 Axes>"
      ]
     },
     "metadata": {
      "needs_background": "light"
     },
     "output_type": "display_data"
    }
   ],
   "source": [
    "plt.matshow(norm_conf_mx, cmap=plt.cm.gray)\n",
    "plt.show()"
   ]
  },
  {
   "cell_type": "code",
   "execution_count": 23,
   "metadata": {},
   "outputs": [
    {
     "data": {
      "text/plain": [
       "0.778234320607202"
      ]
     },
     "execution_count": 23,
     "metadata": {},
     "output_type": "execute_result"
    }
   ],
   "source": [
    "from sklearn.metrics import f1_score\n",
    "\n",
    "f1_score(y_train, y_predict)"
   ]
  },
  {
   "cell_type": "markdown",
   "metadata": {},
   "source": [
    "Another metric would be AUC."
   ]
  },
  {
   "cell_type": "code",
   "execution_count": 24,
   "metadata": {},
   "outputs": [],
   "source": [
    "from sklearn.metrics import roc_curve\n",
    "from sklearn.metrics import roc_auc_score\n",
    "\n",
    "roc_measure = False\n",
    "if roc_measure == True:\n",
    "    y_probas_forest = cross_val_predict(forest_clf, X_train, y_train, cv=5, method=\"predict_proba\")\n",
    "    y_scores_forest = y_probas_forest[:, 1] # score = proba of positive class\n",
    "    fpr_forest, tpr_forest, thresholds_forest = roc_curve(y_train, y_scores_forest)\n",
    "\n",
    "    # Now you are ready to plot the ROC curve. It is useful to plot the first ROC curve as well to see how they compare\n",
    "    plt.plot(fpr_forest, tpr_forest, label=\"Random Forest\")\n",
    "    plt.legend(loc=\"lower right\")\n",
    "    plt.show()\n",
    "    \n",
    "    roc_auc_score(y_train, y_scores_forest)"
   ]
  },
  {
   "cell_type": "markdown",
   "metadata": {},
   "source": [
    "And finally we fit the model."
   ]
  },
  {
   "cell_type": "code",
   "execution_count": 25,
   "metadata": {},
   "outputs": [
    {
     "data": {
      "text/plain": [
       "RandomForestClassifier(random_state=42)"
      ]
     },
     "execution_count": 25,
     "metadata": {},
     "output_type": "execute_result"
    }
   ],
   "source": [
    "forest_clf.fit(X_train, y_train)"
   ]
  },
  {
   "cell_type": "markdown",
   "metadata": {},
   "source": [
    "And finally saving the model.\n"
   ]
  },
  {
   "cell_type": "code",
   "execution_count": 26,
   "metadata": {},
   "outputs": [],
   "source": [
    "import pickle \n",
    "pickle_out = open(\"classifier.pkl\", mode = \"wb\") \n",
    "pickle.dump(forest_clf, pickle_out) \n",
    "pickle_out.close()"
   ]
  },
  {
   "cell_type": "markdown",
   "metadata": {},
   "source": [
    "# Predict on the test set"
   ]
  },
  {
   "cell_type": "code",
   "execution_count": 27,
   "metadata": {},
   "outputs": [],
   "source": [
    "y_pred = forest_clf.predict(X_test)"
   ]
  },
  {
   "cell_type": "code",
   "execution_count": 28,
   "metadata": {},
   "outputs": [
    {
     "data": {
      "text/plain": [
       "array([[44,  4],\n",
       "       [14, 32]])"
      ]
     },
     "execution_count": 28,
     "metadata": {},
     "output_type": "execute_result"
    }
   ],
   "source": [
    "conf_mx_test = confusion_matrix(y_test, y_pred)\n",
    "conf_mx_test"
   ]
  },
  {
   "cell_type": "code",
   "execution_count": 29,
   "metadata": {},
   "outputs": [
    {
     "data": {
      "text/plain": [
       "array([[0.91666667, 0.08333333],\n",
       "       [0.30434783, 0.69565217]])"
      ]
     },
     "execution_count": 29,
     "metadata": {},
     "output_type": "execute_result"
    }
   ],
   "source": [
    "# normalize confusion matrix\n",
    "row_sums = conf_mx_test.sum(axis=1, keepdims=True)\n",
    "norm_conf_mx_test = conf_mx_test / row_sums\n",
    "norm_conf_mx_test"
   ]
  },
  {
   "cell_type": "code",
   "execution_count": 30,
   "metadata": {},
   "outputs": [
    {
     "data": {
      "image/png": "[encoded data removed]",
      "text/plain": [
       "<Figure size 288x288 with 1 Axes>"
      ]
     },
     "metadata": {
      "needs_background": "light"
     },
     "output_type": "display_data"
    }
   ],
   "source": [
    "plt.matshow(norm_conf_mx_test, cmap=plt.cm.gray)\n",
    "plt.show()"
   ]
  },
  {
   "cell_type": "code",
   "execution_count": 31,
   "metadata": {},
   "outputs": [
    {
     "data": {
      "text/plain": [
       "0.7804878048780488"
      ]
     },
     "execution_count": 31,
     "metadata": {},
     "output_type": "execute_result"
    }
   ],
   "source": [
    "f1_score(y_test, y_pred)"
   ]
  },
  {
   "cell_type": "code",
   "execution_count": 32,
   "metadata": {},
   "outputs": [
    {
     "data": {
      "text/plain": [
       "array([1, 0, 1, 0, 0, 0, 1, 0, 1, 1, 1, 1, 1, 0, 0, 1, 0, 0, 1, 1, 0, 1,\n",
       "       0, 1, 0, 0, 0, 0, 0, 0, 0, 0, 0, 1, 0, 0, 0, 0, 0, 0, 0, 1, 0, 0,\n",
       "       0, 0, 1, 0, 1, 0, 1, 0, 0, 1, 1, 0, 1, 1, 0, 0, 0, 1, 1, 0, 0, 1,\n",
       "       0, 0, 0, 1, 0, 0, 0, 0, 1, 0, 1, 0, 1, 1, 1, 1, 0, 1, 1, 0, 0, 1,\n",
       "       0, 0, 0, 0, 1, 0], dtype=uint8)"
      ]
     },
     "execution_count": 32,
     "metadata": {},
     "output_type": "execute_result"
    }
   ],
   "source": [
    "y_pred"
   ]
  },
  {
   "cell_type": "code",
   "execution_count": 33,
   "metadata": {},
   "outputs": [],
   "source": [
    "StID = range(1,len(y_pred)+1)\n",
    "predictions = pd.DataFrame(y_pred, columns=['movement'], index=StID)"
   ]
  },
  {
   "cell_type": "code",
   "execution_count": 39,
   "metadata": {},
   "outputs": [
    {
     "data": {
      "text/html": [
       "<div>\n",
       "<style scoped>\n",
       "    .dataframe tbody tr th:only-of-type {\n",
       "        vertical-align: middle;\n",
       "    }\n",
       "\n",
       "    .dataframe tbody tr th {\n",
       "        vertical-align: top;\n",
       "    }\n",
       "\n",
       "    .dataframe thead th {\n",
       "        text-align: right;\n",
       "    }\n",
       "</style>\n",
       "<table border=\"1\" class=\"dataframe\">\n",
       "  <thead>\n",
       "    <tr style=\"text-align: right;\">\n",
       "      <th></th>\n",
       "      <th>movement</th>\n",
       "    </tr>\n",
       "  </thead>\n",
       "  <tbody>\n",
       "    <tr>\n",
       "      <th>1</th>\n",
       "      <td>1</td>\n",
       "    </tr>\n",
       "    <tr>\n",
       "      <th>2</th>\n",
       "      <td>0</td>\n",
       "    </tr>\n",
       "    <tr>\n",
       "      <th>3</th>\n",
       "      <td>1</td>\n",
       "    </tr>\n",
       "    <tr>\n",
       "      <th>4</th>\n",
       "      <td>0</td>\n",
       "    </tr>\n",
       "    <tr>\n",
       "      <th>5</th>\n",
       "      <td>0</td>\n",
       "    </tr>\n",
       "    <tr>\n",
       "      <th>6</th>\n",
       "      <td>0</td>\n",
       "    </tr>\n",
       "    <tr>\n",
       "      <th>7</th>\n",
       "      <td>1</td>\n",
       "    </tr>\n",
       "    <tr>\n",
       "      <th>8</th>\n",
       "      <td>0</td>\n",
       "    </tr>\n",
       "    <tr>\n",
       "      <th>9</th>\n",
       "      <td>1</td>\n",
       "    </tr>\n",
       "    <tr>\n",
       "      <th>10</th>\n",
       "      <td>1</td>\n",
       "    </tr>\n",
       "  </tbody>\n",
       "</table>\n",
       "</div>"
      ],
      "text/plain": [
       "    movement\n",
       "1          1\n",
       "2          0\n",
       "3          1\n",
       "4          0\n",
       "5          0\n",
       "6          0\n",
       "7          1\n",
       "8          0\n",
       "9          1\n",
       "10         1"
      ]
     },
     "execution_count": 39,
     "metadata": {},
     "output_type": "execute_result"
    }
   ],
   "source": [
    "predictions.head(10)"
   ]
  },
  {
   "cell_type": "code",
   "execution_count": 35,
   "metadata": {},
   "outputs": [],
   "source": [
    "predictions.to_csv('predictions/predictions.csv')"
   ]
  },
  {
   "cell_type": "markdown",
   "metadata": {},
   "source": [
    "# Applying the strategy"
   ]
  },
  {
   "cell_type": "markdown",
   "metadata": {},
   "source": [
    "Now we test our model on backtest dataset."
   ]
  },
  {
   "cell_type": "markdown",
   "metadata": {},
   "source": [
    "To draw the profit/loss over time, we use the `trade_stat_logger` library (source:[here](https://github.com/shilewenuw/trade_stat_logger))."
   ]
  },
  {
   "cell_type": "markdown",
   "metadata": {},
   "source": [
    "At each day, if the model predicts an increase in price, we buy at opening and sell at close."
   ]
  },
  {
   "cell_type": "code",
   "execution_count": 36,
   "metadata": {},
   "outputs": [],
   "source": [
    "from trade_stat_logger.logger import SimpleLogger\n",
    "\n",
    "logger = SimpleLogger()\n",
    "\n",
    "backtest_days = np.arange(memory_days, len(backtest_data.columns)/2, 1, dtype=int)\n",
    "\n",
    "for day in backtest_days:\n",
    "    # get the close and open of 9 days and the 10th day open\n",
    "    X_backtest = backtest_data.iloc[:, 2*(day-memory_days):2*day-1]\n",
    "    \n",
    "    # predict the 10th close\n",
    "    y_predict_10 = forest_clf.predict(X_backtest)\n",
    "    \n",
    "    # apply the strategy to all tickers in dataset in that specific day\n",
    "    for index, rows in X_backtest.iterrows():\n",
    "        share_price_open = backtest_data.iloc[index-1, 2*day-2]\n",
    "        share_price_close = backtest_data.iloc[index-1, 2*day-1]\n",
    "        # if the 10th close is higher than open, then buy. if it's lower, do nothing (no short selling for now)\n",
    "        if y_predict_10[index-1] == 1:\n",
    "            logger.log(security = index, shares = 1, share_price = share_price_open)\n",
    "            logger.log(security = index, shares = -1, share_price = share_price_close)"
   ]
  },
  {
   "cell_type": "code",
   "execution_count": 37,
   "metadata": {},
   "outputs": [
    {
     "name": "stderr",
     "output_type": "stream",
     "text": [
      "/home/motare/.local/lib/python3.9/site-packages/trade_stat_logger/logger.py:115: UserWarning: For most accurate performance results, please clear all holdings, which you can do with clear_all_positions()\n",
      "  warn('For most accurate performance results, please clear all holdings, which you can do with clear_all_positions()')\n"
     ]
    },
    {
     "data": {
      "image/png": "[encoded data removed]",
      "text/plain": [
       "<Figure size 1080x576 with 4 Axes>"
      ]
     },
     "metadata": {
      "needs_background": "light"
     },
     "output_type": "display_data"
    }
   ],
   "source": [
    "# Analyze the performance of the strategy\n",
    "logger.graph_statistics(show_window=False)\n",
    "plt.savefig('./images/graph_statistics.png')"
   ]
  },
  {
   "cell_type": "markdown",
   "metadata": {},
   "source": [
    "# Next steps\n",
    "- Comparing multiple machine learing models and the accuracies\n",
    "- What happens if we change the number of prvoius days (n) from 10 to other numbers?\n",
    "- Is there subsets of data that represents industries with correlations? How would dividing the dataset change the perfomance of the model?\n",
    "- Will tuning the hyperparameteres improve the model?\n",
    "- What is the predictive power of the model applied to the recent years of the US and and other countries data?\n",
    "\n",
    "It is also interesting to see how the model perform on realtime data using APIs of the brokerages (IBKR, Robinhood, Wealthsimple)."
   ]
  },
  {
   "cell_type": "markdown",
   "metadata": {},
   "source": [
    "# Conclusions"
   ]
  },
  {
   "cell_type": "markdown",
   "metadata": {},
   "source": [
    "The directional movement of the stock market looks predictble, but there are some notes to consider. \n",
    "The Buffalo Capital Management states three points, and we look at them here and see how we can mitigate theese issues.\n",
    "1. Magnitude: We did not predict the magnitude of the profit/loss direction. If loss magnitudes are biger than the profits, the profits are wiped out. It seems that we have to expect to have a bullish market in the time we employ our strategy so overall we don't lose big. But how can we know the market is bullish? \n",
    "2. Things can go wrong very fast: The high accuracy of the prediction does not mean the high accuracy of the profitability. Our model might be 90% accuarate, but one error make us lose big. To mitigate this issue, we should have an exit strategy in place all the time.\n",
    "3. Transaction fees: The advent of commidsion-free trading brokers in recent years makes more frequent trading strategies promising so transaction fees might not be an issue anymore. But there are concerns about the competitiveness of the price compared to non-free brokers.\n"
   ]
  },
  {
   "cell_type": "code",
   "execution_count": null,
   "metadata": {},
   "outputs": [],
   "source": []
  }
 ],
 "metadata": {
  "kernelspec": {
   "display_name": "Python 3",
   "language": "python",
   "name": "python3"
  },
  "language_info": {
   "codemirror_mode": {
    "name": "ipython",
    "version": 3
   },
   "file_extension": ".py",
   "mimetype": "text/x-python",
   "name": "python",
   "nbconvert_exporter": "python",
   "pygments_lexer": "ipython3",
   "version": "3.9.5"
  },
  "toc-autonumbering": true,
  "toc-showmarkdowntxt": false
 },
 "nbformat": 4,
 "nbformat_minor": 4
}
